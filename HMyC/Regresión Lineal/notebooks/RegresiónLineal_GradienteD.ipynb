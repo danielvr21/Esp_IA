{
 "cells": [
  {
   "cell_type": "code",
   "execution_count": 1,
   "id": "55b8153a",
   "metadata": {},
   "outputs": [],
   "source": [
    "import numpy as np\n",
    "import pandas as pd\n",
    "import matplotlib.pyplot as plt\n",
    "import seaborn as sns\n",
    "sns.set()\n",
    "\n",
    "from sklearn.linear_model import LinearRegression\n",
    "\n",
    "import statsmodels.formula.api as smf\n",
    "from statsmodels.stats.outliers_influence import variance_inflation_factor\n",
    "\n",
    "import tensorflow as tf\n",
    "from tensorflow import keras\n",
    "from tensorflow.keras import layers"
   ]
  },
  {
   "cell_type": "code",
   "execution_count": 2,
   "id": "9608d0a0",
   "metadata": {},
   "outputs": [],
   "source": [
    "dataframe = keras.utils.get_file(\"auto-mpg.data\", \"http://archive.ics.uci.edu/ml/machine-learning-databases/auto-mpg/auto-mpg.data\")"
   ]
  },
  {
   "cell_type": "code",
   "execution_count": 78,
   "id": "c271bf22",
   "metadata": {},
   "outputs": [
    {
     "data": {
      "text/html": [
       "<div>\n",
       "<style scoped>\n",
       "    .dataframe tbody tr th:only-of-type {\n",
       "        vertical-align: middle;\n",
       "    }\n",
       "\n",
       "    .dataframe tbody tr th {\n",
       "        vertical-align: top;\n",
       "    }\n",
       "\n",
       "    .dataframe thead th {\n",
       "        text-align: right;\n",
       "    }\n",
       "</style>\n",
       "<table border=\"1\" class=\"dataframe\">\n",
       "  <thead>\n",
       "    <tr style=\"text-align: right;\">\n",
       "      <th></th>\n",
       "      <th>MPG</th>\n",
       "      <th>Cylinders</th>\n",
       "      <th>Displacement</th>\n",
       "      <th>Horsepower</th>\n",
       "      <th>Weight</th>\n",
       "      <th>Acceleration</th>\n",
       "      <th>ModelYear</th>\n",
       "      <th>Origin</th>\n",
       "    </tr>\n",
       "  </thead>\n",
       "  <tbody>\n",
       "    <tr>\n",
       "      <th>394</th>\n",
       "      <td>44.0</td>\n",
       "      <td>4</td>\n",
       "      <td>97.0</td>\n",
       "      <td>52.0</td>\n",
       "      <td>2130.0</td>\n",
       "      <td>24.6</td>\n",
       "      <td>82</td>\n",
       "      <td>2</td>\n",
       "    </tr>\n",
       "    <tr>\n",
       "      <th>395</th>\n",
       "      <td>32.0</td>\n",
       "      <td>4</td>\n",
       "      <td>135.0</td>\n",
       "      <td>84.0</td>\n",
       "      <td>2295.0</td>\n",
       "      <td>11.6</td>\n",
       "      <td>82</td>\n",
       "      <td>1</td>\n",
       "    </tr>\n",
       "    <tr>\n",
       "      <th>396</th>\n",
       "      <td>28.0</td>\n",
       "      <td>4</td>\n",
       "      <td>120.0</td>\n",
       "      <td>79.0</td>\n",
       "      <td>2625.0</td>\n",
       "      <td>18.6</td>\n",
       "      <td>82</td>\n",
       "      <td>1</td>\n",
       "    </tr>\n",
       "    <tr>\n",
       "      <th>397</th>\n",
       "      <td>31.0</td>\n",
       "      <td>4</td>\n",
       "      <td>119.0</td>\n",
       "      <td>82.0</td>\n",
       "      <td>2720.0</td>\n",
       "      <td>19.4</td>\n",
       "      <td>82</td>\n",
       "      <td>1</td>\n",
       "    </tr>\n",
       "  </tbody>\n",
       "</table>\n",
       "</div>"
      ],
      "text/plain": [
       "      MPG  Cylinders  Displacement  Horsepower  Weight  Acceleration  \\\n",
       "394  44.0          4          97.0        52.0  2130.0          24.6   \n",
       "395  32.0          4         135.0        84.0  2295.0          11.6   \n",
       "396  28.0          4         120.0        79.0  2625.0          18.6   \n",
       "397  31.0          4         119.0        82.0  2720.0          19.4   \n",
       "\n",
       "     ModelYear  Origin  \n",
       "394         82       2  \n",
       "395         82       1  \n",
       "396         82       1  \n",
       "397         82       1  "
      ]
     },
     "execution_count": 78,
     "metadata": {},
     "output_type": "execute_result"
    }
   ],
   "source": [
    "column_names = ['MPG','Cylinders','Displacement','Horsepower','Weight',\n",
    "                'Acceleration', 'ModelYear', 'Origin']\n",
    "\n",
    "raw_dataset = pd.read_csv(dataframe, names=column_names,\n",
    "                      na_values = \"?\", comment='\\t',\n",
    "                      sep=\" \", skipinitialspace=True)\n",
    "\n",
    "dataset = raw_dataset.copy()\n",
    "norm_dataset = raw_dataset.copy()\n",
    "\n",
    "\n",
    "dataset.tail(4)"
   ]
  },
  {
   "cell_type": "markdown",
   "id": "403c125b",
   "metadata": {},
   "source": [
    "#### Verificamos valores vacios en el dataset."
   ]
  },
  {
   "cell_type": "code",
   "execution_count": 13,
   "id": "78446413",
   "metadata": {},
   "outputs": [
    {
     "data": {
      "text/plain": [
       "MPG             0\n",
       "Cylinders       0\n",
       "Displacement    0\n",
       "Horsepower      6\n",
       "Weight          0\n",
       "Acceleration    0\n",
       "ModelYear       0\n",
       "Origin          0\n",
       "dtype: int64"
      ]
     },
     "execution_count": 13,
     "metadata": {},
     "output_type": "execute_result"
    }
   ],
   "source": [
    "dataset.isna().sum()"
   ]
  },
  {
   "cell_type": "markdown",
   "id": "41a19fe7",
   "metadata": {},
   "source": [
    "#### Eliminamos filas donde existen valores vacios."
   ]
  },
  {
   "cell_type": "code",
   "execution_count": 14,
   "id": "5b7c634f",
   "metadata": {},
   "outputs": [
    {
     "data": {
      "text/plain": [
       "MPG             0\n",
       "Cylinders       0\n",
       "Displacement    0\n",
       "Horsepower      0\n",
       "Weight          0\n",
       "Acceleration    0\n",
       "ModelYear       0\n",
       "Origin          0\n",
       "dtype: int64"
      ]
     },
     "execution_count": 14,
     "metadata": {},
     "output_type": "execute_result"
    }
   ],
   "source": [
    "dataset = dataset.dropna(axis = 0)\n",
    "dataset.isna().sum()"
   ]
  },
  {
   "cell_type": "markdown",
   "id": "9012782f",
   "metadata": {},
   "source": [
    "### Regresión lineal simple por gradiente descendiente"
   ]
  },
  {
   "cell_type": "code",
   "execution_count": 64,
   "id": "dceb0f6f",
   "metadata": {},
   "outputs": [
    {
     "name": "stdout",
     "output_type": "stream",
     "text": [
      "Defining independent and dependent variable\n"
     ]
    }
   ],
   "source": [
    "print('Defining independent and dependent variable')\n",
    "# x = dataset[['Displacement','Horsepower','Weight']].values\n",
    "x = dataset['Displacement'].values\n",
    "\n",
    "y = dataset['MPG'].values\n",
    "# y = y.reshape(392,1)"
   ]
  },
  {
   "cell_type": "code",
   "execution_count": 79,
   "id": "b14bdb62",
   "metadata": {},
   "outputs": [
    {
     "name": "stdout",
     "output_type": "stream",
     "text": [
      "Displaying data distribution\n"
     ]
    },
    {
     "data": {
      "image/png": "[encoded data removed]",
      "text/plain": [
       "<Figure size 576x432 with 1 Axes>"
      ]
     },
     "metadata": {},
     "output_type": "display_data"
    }
   ],
   "source": [
    "print('Displaying data distribution')\n",
    "plt.figure(figsize=(8,6))\n",
    "plt.title('Data distribution')\n",
    "plt.scatter(x, y, s=30)\n",
    "plt.xlabel('Displacement')\n",
    "plt.ylabel('MPG')\n",
    "plt.grid()\n",
    "plt.show()"
   ]
  },
  {
   "cell_type": "code",
   "execution_count": 93,
   "id": "8e6dbe2f",
   "metadata": {},
   "outputs": [
    {
     "name": "stdout",
     "output_type": "stream",
     "text": [
      "Initializing m and b\n"
     ]
    }
   ],
   "source": [
    "print('Initializing m and b')\n",
    "m = 0 #theta0\n",
    "b = 0 #theta1\n",
    "# theta2 = 0\n",
    "# theta3 = 0"
   ]
  },
  {
   "cell_type": "code",
   "execution_count": 94,
   "id": "b376bc83",
   "metadata": {},
   "outputs": [
    {
     "name": "stdout",
     "output_type": "stream",
     "text": [
      "Displaying the regression line before being trained\n"
     ]
    }
   ],
   "source": [
    "print('Displaying the regression line before being trained')\n",
    "x_line = np.linspace(0,10,100)\n",
    "y_line = b + m*x_line \n",
    "# y_line = b + theta1*x_line + theta2*x_line + theta3*x_line"
   ]
  },
  {
   "cell_type": "code",
   "execution_count": 95,
   "id": "0b4a3976",
   "metadata": {},
   "outputs": [
    {
     "data": {
      "image/png": "[encoded data removed]",
      "text/plain": [
       "<Figure size 576x432 with 1 Axes>"
      ]
     },
     "metadata": {},
     "output_type": "display_data"
    }
   ],
   "source": [
    "plt.figure(figsize=(8,6))\n",
    "plt.title('Data distribution')\n",
    "plt.scatter(x, y, s=10)\n",
    "plt.plot(x_line,y_line, c='r')\n",
    "plt.xlabel('hours')\n",
    "plt.ylabel('score')\n",
    "plt.grid()\n",
    "plt.show()"
   ]
  },
  {
   "cell_type": "code",
   "execution_count": 96,
   "id": "27abae33",
   "metadata": {},
   "outputs": [
    {
     "name": "stdout",
     "output_type": "stream",
     "text": [
      "Defining learning rate and the number of epochs\n"
     ]
    }
   ],
   "source": [
    "print('Defining learning rate and the number of epochs')\n",
    "L = 0.001\n",
    "epochs = 100"
   ]
  },
  {
   "cell_type": "code",
   "execution_count": 97,
   "id": "d680e4ae",
   "metadata": {},
   "outputs": [
    {
     "name": "stdout",
     "output_type": "stream",
     "text": [
      "Train the linear regression model\n"
     ]
    }
   ],
   "source": [
    "print('Train the linear regression model')\n",
    "# The number of samples in the dataset"
   ]
  },
  {
   "cell_type": "code",
   "execution_count": 86,
   "id": "22370e76",
   "metadata": {},
   "outputs": [
    {
     "name": "stderr",
     "output_type": "stream",
     "text": [
      "C:\\Users\\danie\\AppData\\Local\\Temp/ipykernel_8812/1545062250.py:8: RuntimeWarning: overflow encountered in square\n",
      "  mse = (1/n) * np.sum((y - yhat)**2)\n",
      "C:\\Users\\danie\\AppData\\Local\\Temp/ipykernel_8812/1545062250.py:15: RuntimeWarning: invalid value encountered in double_scalars\n",
      "  m = m - L*dm\n"
     ]
    }
   ],
   "source": [
    "n = float(x.shape[0])\n",
    "\n",
    "# An empty list to store the error in each epoch\n",
    "losses = []\n",
    "for i in range(epochs):\n",
    "    yhat = m*x + b\n",
    "    \n",
    "    # Keeping track of the error decrease\n",
    "    mse = (1/n) * np.sum((y - yhat)**2)\n",
    "    losses.append(mse)\n",
    "    \n",
    "    # Derivatives\n",
    "    dm = (-2/n) * np.sum(x * (y - yhat))\n",
    "    db = (-2/n) * np.sum(y - yhat)\n",
    "    # Values update\n",
    "    m = m - L*dm\n",
    "    b = b - L*db"
   ]
  },
  {
   "cell_type": "code",
   "execution_count": 92,
   "id": "6e2c1b32",
   "metadata": {},
   "outputs": [
    {
     "name": "stdout",
     "output_type": "stream",
     "text": [
      "Displaying linear regression line after training\n"
     ]
    },
    {
     "data": {
      "image/png": "[encoded data removed]",
      "text/plain": [
       "<Figure size 576x432 with 1 Axes>"
      ]
     },
     "metadata": {},
     "output_type": "display_data"
    }
   ],
   "source": [
    "print('Displaying linear regression line after training')\n",
    "x_line = np.linspace(0,10,100)\n",
    "y_line = m*x_line + b\n",
    "plt.figure(figsize=(8,6))\n",
    "plt.title('Data distribution')\n",
    "plt.plot(x_line, y_line, c='r')\n",
    "plt.scatter(x, y, s=10)\n",
    "plt.xlabel('hours')\n",
    "plt.ylabel('score')\n",
    "plt.grid()\n",
    "plt.show()"
   ]
  },
  {
   "cell_type": "code",
   "execution_count": 91,
   "id": "11ea38ec",
   "metadata": {},
   "outputs": [
    {
     "name": "stdout",
     "output_type": "stream",
     "text": [
      "Displaying loss value decrease\n",
      "Initial loss\t: inf\n",
      "Final loss\t: nan\n"
     ]
    },
    {
     "data": {
      "image/png": "[encoded data removed]",
      "text/plain": [
       "<Figure size 576x432 with 1 Axes>"
      ]
     },
     "metadata": {},
     "output_type": "display_data"
    }
   ],
   "source": [
    "print('Displaying loss value decrease')\n",
    "plt.figure(figsize=(8,6))\n",
    "plt.title('Loss value decrease')\n",
    "plt.plot(losses)\n",
    "plt.ylabel('loss')\n",
    "plt.xlabel('epoch')\n",
    "print('Initial loss\\t:', losses[0])\n",
    "print('Final loss\\t:', losses[-1])\n",
    "plt.grid()\n",
    "plt.show()"
   ]
  },
  {
   "cell_type": "code",
   "execution_count": null,
   "id": "f9b0756f",
   "metadata": {},
   "outputs": [],
   "source": []
  },
  {
   "cell_type": "code",
   "execution_count": null,
   "id": "1c30e472",
   "metadata": {},
   "outputs": [],
   "source": []
  }
 ],
 "metadata": {
  "kernelspec": {
   "display_name": "Python 3 (ipykernel)",
   "language": "python",
   "name": "python3"
  },
  "language_info": {
   "codemirror_mode": {
    "name": "ipython",
    "version": 3
   },
   "file_extension": ".py",
   "mimetype": "text/x-python",
   "name": "python",
   "nbconvert_exporter": "python",
   "pygments_lexer": "ipython3",
   "version": "3.8.11"
  }
 },
 "nbformat": 4,
 "nbformat_minor": 5
}
